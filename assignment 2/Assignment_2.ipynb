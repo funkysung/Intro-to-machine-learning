{
 "cells": [
  {
   "cell_type": "markdown",
   "metadata": {},
   "source": [
    "# Grade: /100 Mark(s)\n",
    "\n",
    "# Assignment 02: Maximum Likelihood (Sung Hyun Kim/skim2536)\n",
    "\n",
    "\n",
    "### Maximum Likelihood\n",
    "\n",
    "The poisson distribution https://en.wikipedia.org/wiki/Poisson_distribution is a discrete probability distribution often used to describe count-based data, like how many snowflakes fall in a day.\n",
    "\n",
    "If we have count data $y$ that are influenced by a covariate or feature $x$, we can used the maximum likelihood principle to develop a regression model that estimates the mean of $Y$ given $X = x$.\n",
    "\n",
    "### Follow These Instructions\n",
    "\n",
    "Once you are finished, ensure to complete the following steps.\n",
    "\n",
    "1.  Restart your kernel by clicking 'Kernel' > 'Restart & Run All'.\n",
    "\n",
    "2.  Fix any errors which result from this.\n",
    "\n",
    "3.  Repeat steps 1. and 2. until your notebook runs without errors.\n",
    "\n",
    "4.  Submit your completed notebook to OWL by the deadline.\n"
   ]
  },
  {
   "cell_type": "code",
   "execution_count": 9,
   "metadata": {},
   "outputs": [],
   "source": [
    "#Packages for this assignment\n",
    "import numpy as np\n",
    "import matplotlib.pyplot as plt\n",
    "import pandas as pd\n",
    "from scipy.optimize import minimize\n",
    "from scipy.special import gammaln\n",
    "from sklearn import linear_model\n",
    "from IPython.display import display\n"
   ]
  },
  {
   "cell_type": "markdown",
   "metadata": {},
   "source": [
    "### Question 1: /10 Marks\n",
    "\n",
    "The negative log likelihood for one observation of a single Poisson random variable is\n",
    "\n",
    "$$\\ell(\\lambda; y) = -\\Bigg(   y\\cdot \\ln(\\lambda) - \\lambda - \\ln(y) \\Bigg)$$\n",
    "\n",
    "The negative log likelihood for a collection of $N$ observations, assuming each is independent and Poisson with the same parameter $\\lambda$, is\n",
    "\n",
    "$$\\ell(\\lambda; \\mathbf{y}) = -\\sum_{i=1}^N\\Bigg(   y_{i}\\cdot \\ln(\\lambda) - \\lambda - \\ln(y_i!) \\Bigg)$$\n",
    "\n",
    "The negative log likelihood for a collection of $N$ observations, assuming each is independent and Poisson with a *different* parameter $\\lambda$ for each one, is\n",
    "\n",
    "$$\\ell(\\boldsymbol{\\lambda}; \\mathbf{y}) = -\\sum_{i=1}^N\\Bigg(   y_{i}\\cdot \\ln(\\lambda_i) - \\lambda_i - \\ln(y_i!) \\Bigg)$$\n",
    "\n",
    "See the difference?\n",
    "\n",
    "Write a function called `poissonNegLogLikelihood` that takes a vector of counts $\\mathbf{y}$ and a parameter $\\lambda$ and returns the negative log likelihood. Use numpy functions so that you don't need to use loops. Also, note that the $\\sum_{i} \\ln(y!)$ term does not affect the location of the maximum because it does not change with $\\lambda$, and so you can (and should) omit the $ \\ln(y!)$ in your function.\n",
    "\n",
    "Your code should work for two cases:\n",
    "\n",
    "First, it should work with a scalar $\\lambda$ and a vector $y$. Test your function by calling it with `lam = 1.3` and `y=np.array([2,1,0,0])`.\n",
    "\n",
    "Second, it should work with a vector $\\lambda$ and a vector $y$, if they have the same length. (This is the last likelihood function described above.) Test your function by calling it with `lam=np.array([1,0.5,1,3])` and  `y=np.array([2,1,0,0])`. In this second case, the first $\\lambda$ should be used to evaluate the first $y$, the second $\\lambda$ should be used to evaluat the second $y$, and so on. ***YOU SHOULD NOT USE ANY LOOPS - BOTH CASES SHOULD WORK IF YOU CODE IT IN THE SIMPLEST WAY BECAUSE OF HOW NUMPY WORKS.**\n",
    "\n",
    "**Answer the following below in markdown:** What happens when you set an element of lam to 0 or a negative number and why? \n"
   ]
  },
  {
   "cell_type": "markdown",
   "metadata": {},
   "source": [
    "#### Answer to Question 1\n",
    "\n",
    "The returned value is nan (undefined). This is because the lamda variable is passed onto logarithmic function (np.log(lam)). Logarithm of zero and negative values cannot be dfined, thus the resulting value of the function will be non-defined."
   ]
  },
  {
   "cell_type": "code",
   "execution_count": 10,
   "metadata": {},
   "outputs": [
    {
     "name": "stdout",
     "output_type": "stream",
     "text": [
      "Test 1 result (Using scalar lamda): 4.412907206597527\n",
      "\n",
      "Test 2 result (Using vector lamda): 6.193147180559945\n",
      "\n"
     ]
    }
   ],
   "source": [
    "def poissonNegLogLikelihood(lam,y):\n",
    "    neg_log_lik = -1 * np.sum(y * np.log(lam) - lam)\n",
    "    return neg_log_lik\n",
    "\n",
    "# test with scalar lambda\n",
    "lam = 1.3\n",
    "y = np.array([2,1,0,0])\n",
    "result = poissonNegLogLikelihood(lam,y)\n",
    "print('Test 1 result (Using scalar lamda): {}\\n'.format(result))\n",
    "\n",
    "# test with vector lambda\n",
    "lam = np.array([1,0.5,1,3])\n",
    "y = np.array([2,1,0,0])\n",
    "result = poissonNegLogLikelihood(lam,y)\n",
    "print('Test 2 result (Using vector lamda): {}\\n'.format(result))\n",
    "\n",
    "# what happens when element of lamda to 0 or negative\n",
    "# lam = -1\n",
    "# y = np.array([2,1,0,0])\n",
    "# result = poissonNegLogLikelihood(lam,y)\n",
    "# print('(optional) Test 3 result (Using zero/negative lamda): {}\\n'.format(result))"
   ]
  },
  {
   "cell_type": "markdown",
   "metadata": {},
   "source": [
    "---\n",
    "\n",
    "### Question 2: /15 Marks\n",
    "\n",
    "Write a function called `poissonRegressionNegLogLikelihood` that takes as arguments a vector $\\mathbf{y}$ of counts, a design matrix $\\mathbf{X}$ of features for each count, and a vector $\\mathbf{\\beta}$ of parameters. The function should return the negative log likelihood of this dataset, assuming that each element of  $\\mathbf{y}$ is independent and Poisson distributed with parameter $\\lambda = \\exp(\\mathbf{X}\\beta)$. Hint: Numpy implements the exponential using `np.exp`.\n",
    "\n",
    "Hint: You should use `poissonNegLogLikelihood` in this answer!\n",
    "Test your function by calling it with \n",
    "* `b=np.array([1,2])`\n",
    "* `X=np.array([[1,2,3],[2,3,1]]).T`\n",
    "* `y=np.array([0,2,10])`\n"
   ]
  },
  {
   "cell_type": "code",
   "execution_count": 11,
   "metadata": {},
   "outputs": [
    {
     "name": "stdout",
     "output_type": "stream",
     "text": [
      "Test result: 3211.7843052468816\n",
      "\n"
     ]
    }
   ],
   "source": [
    "def poissonRegressionNegLogLikelihood(b, X, y):\n",
    "    #Enter the expression for lambda as shown above!\n",
    "    lam = np.exp(np.dot(X,b))\n",
    "    # lam = np.dot(X,b) #this code was used for testing for question3\n",
    "    # Use poissonNegLogLikelihood to compute the likelihood\n",
    "    neg_log_lik = poissonNegLogLikelihood(lam, y)\n",
    "    return neg_log_lik\n",
    "\n",
    "b = np.array([1,2])\n",
    "X = np.array([[1,2,3],[2,3,1]]).T\n",
    "y = np.array([0,2,10])\n",
    "\n",
    "result = poissonRegressionNegLogLikelihood(b, X, y)\n",
    "print(\"Test result: {}\\n\".format(result))"
   ]
  },
  {
   "cell_type": "markdown",
   "metadata": {},
   "source": [
    "### Question 3: /10 Marks\n",
    "\n",
    "a) In `poissonRegressionNegLogLikelihood`, why did we apply the exponential function to $\\mathbf{X}\\beta$?  Hint: Can an exponential ever be negative?\n",
    "\n",
    "b) What might have happened had we just passed $\\lambda = \\mathbf{X}\\beta$?\n",
    "\n",
    "Answer parts a) and b) below in this cell.  Write no more than 2 sentences per answer! \n",
    "\n",
    "---\n",
    "\n",
    "\n",
    "a) poissonRegresionNegLogLikelihood is passed onto poissonNegLogLikelihood, which utilises the first function to return calculated negative log lieklihood. Without exponential function, non of the potential negative values will be addressed, and negative values will be passed on for a logarithmic calculation\n",
    "\n",
    "b) the programme will thrown arithmatic/runtime error as logarithmic cacluation of a negative numbers is not possible, thus impacting the overall performance of the model.\n"
   ]
  },
  {
   "cell_type": "markdown",
   "metadata": {},
   "source": [
    "### Question 4: /5 Marks\n",
    "\n",
    "Write a function called `modelPrediction` which accepts as its first argument a vector of coefficents $\\beta$ and a design matrix $\\mathbf{X}$.  The function should return predictions of the form $\\widehat{\\mathbf{y}} = \\exp(\\mathbf{X}\\beta)$. \n",
    "\n",
    "Hint: Numpy implements the exponential using `np.exp`.  \n",
    "\n",
    "Test your function by calling it with \n",
    "* `b=np.array([1,2])`\n",
    "* `X=np.array([[1,2,3],[2,3,1]]).T`"
   ]
  },
  {
   "cell_type": "code",
   "execution_count": 12,
   "metadata": {},
   "outputs": [
    {
     "name": "stdout",
     "output_type": "stream",
     "text": [
      "Test result: [ 148.4131591  2980.95798704  148.4131591 ]\n"
     ]
    }
   ],
   "source": [
    "def modelPrediction(b,X):\n",
    "    yhat = np.exp(np.dot(X,b))\n",
    "    return yhat\n",
    "\n",
    "b = np.array([1,2])\n",
    "X = np.array([[1,2,3],[2,3,1]]).T\n",
    "result = modelPrediction(b,X)\n",
    "print(\"Test result: {}\".format(result))\n"
   ]
  },
  {
   "cell_type": "markdown",
   "metadata": {},
   "source": [
    "### Question 5: /15 Marks\n",
    "\n",
    "Write a function called `fitModel` which accepts as its first argument argument a design matrix $\\mathbf{X}$ and as its second argument a vector of outcomes counts $\\mathbf{y}$. The function should return the maximum likelihood estimates for the coefficients of a Poisson regression of $\\mathbf{y}$ onto $\\mathbf{X}$.\n",
    "\n",
    "Test your function by calling it with \n",
    "* `X=np.array([[1,2,3],[2,3,1]]).T`\n",
    "* `y=np.array([0,2,10])`\n",
    "\n",
    "What is your estimated b? "
   ]
  },
  {
   "cell_type": "code",
   "execution_count": 13,
   "metadata": {},
   "outputs": [
    {
     "name": "stdout",
     "output_type": "stream",
     "text": [
      "  message: Optimization terminated successfully.\n",
      "  success: True\n",
      "   status: 0\n",
      "      fun: -11.385182045207952\n",
      "        x: [ 9.483e-01 -5.295e-01]\n",
      "      nit: 9\n",
      "      jac: [ 3.576e-07 -1.192e-07]\n",
      " hess_inv: [[ 2.771e-02 -4.303e-02]\n",
      "            [-4.303e-02  1.054e-01]]\n",
      "     nfev: 36\n",
      "     njev: 12\n",
      "\n",
      "Test result (estimated b): [ 0.94827556 -0.52953521]\n",
      "\n"
     ]
    }
   ],
   "source": [
    "def fitModel(X,y):\n",
    "\n",
    "    # Instantiate a guess for the betas, beta_start, so that the optimizer has somewhere to start\n",
    "    # Keep in mind what shape the beta_start should be. It shoud have the same number of elements as X as columns\n",
    "    beta_start = np.zeros(X.shape[1])\n",
    "    # Minimize the appropriate likelihood function\n",
    "    mle = minimize(poissonRegressionNegLogLikelihood, beta_start, args=(X,y))\n",
    "    print(mle)\n",
    "    # Extract the maximum likelihood estimates from the optimizer.\n",
    "    betas = mle.x\n",
    "    return betas\n",
    "\n",
    "# Write code to show your estimated b.\n",
    "X = np.array([[1,2,3],[2,3,1]]).T\n",
    "y = np.array([0,2,10])\n",
    "result = fitModel(X, y)\n",
    "print(\"\\nTest result (estimated b): {}\\n\".format(result))"
   ]
  },
  {
   "cell_type": "markdown",
   "metadata": {},
   "source": [
    "### Question 6: /20 Mark(s)\n",
    "\n",
    "Load in the data from `poisson_regression_data.csv`. Plot a scatterplot of the data. Fit a poisson regression to this data using the functions you wrote above.  Plot the model predictions over $x \\in [-2,2]$ on the same graph as the scatterplot of the data.  "
   ]
  },
  {
   "cell_type": "code",
   "execution_count": 14,
   "metadata": {},
   "outputs": [
    {
     "name": "stdout",
     "output_type": "stream",
     "text": [
      "  message: Optimization terminated successfully.\n",
      "  success: True\n",
      "   status: 0\n",
      "      fun: 28.287152434220946\n",
      "        x: [-1.517e-01  1.239e+00]\n",
      "      nit: 8\n",
      "      jac: [-2.384e-07 -2.384e-07]\n",
      " hess_inv: [[ 1.425e-02 -9.264e-03]\n",
      "            [-9.264e-03  1.209e-02]]\n",
      "     nfev: 30\n",
      "     njev: 10\n"
     ]
    },
    {
     "data": {
      "image/png": "[encoded data removed]",
      "text/plain": [
       "<Figure size 768x576 with 1 Axes>"
      ]
     },
     "metadata": {},
     "output_type": "display_data"
    }
   ],
   "source": [
    "# Loading in the data.  \n",
    "df = pd.read_csv('poisson_regression_data.csv')\n",
    "x = df['x'].to_numpy()\n",
    "y = df['y'].to_numpy()\n",
    "fig, ax = plt.subplots(dpi = 120)\n",
    "\n",
    "# Scatterplot the data. \n",
    "plt.xlabel('x')\n",
    "plt.ylabel('y')\n",
    "plt.scatter(x,y)\n",
    "#plt.show()\n",
    "\n",
    "# Fit the model.  Use your functions.  \n",
    "x = df.x.values\n",
    "X =  np.c_[np.ones(len(x)), x]\n",
    "#print(X)\n",
    "y= df.y.values\n",
    "\n",
    "# Find the maximum likelihood estimates for the coefficients for this data\n",
    "betas = fitModel(X,y)\n",
    "\n",
    "# Make predictions on new data\n",
    "newx = np.linspace(-2,2,1001)\n",
    "newX = np.c_[np.ones(len(newx)), newx]\n",
    "\n",
    "# Make predictions on the new data\n",
    "y_predicted = modelPrediction(betas,newX)\n",
    "\n",
    "#Finally, plot the predictions on the same axis and color the predictions red\n",
    "\n",
    "plt.plot(newx, y_predicted, c='r')\n",
    "plt.show()"
   ]
  },
  {
   "cell_type": "markdown",
   "metadata": {},
   "source": [
    "### Question 7:  /20 Marks\n",
    "\n",
    "Now apply linear regression (ordinary least squares) to the data, obtain parameter estimates and and plot the predictions over the same range.\n"
   ]
  },
  {
   "cell_type": "markdown",
   "metadata": {},
   "source": []
  },
  {
   "cell_type": "code",
   "execution_count": 15,
   "metadata": {},
   "outputs": [
    {
     "data": {
      "image/png": "[encoded data removed]",
      "text/plain": [
       "<Figure size 768x576 with 1 Axes>"
      ]
     },
     "metadata": {},
     "output_type": "display_data"
    }
   ],
   "source": [
    "# Hint: Very similar to the previous assignment\n",
    "# Read in the data\n",
    "df = pd.read_csv('poisson_regression_data.csv')\n",
    "x = df['x'].to_numpy().reshape(-1, 1)\n",
    "y = df['y'].to_numpy()\n",
    "\n",
    "# fit the model\n",
    "olsLinRegFit = linear_model.LinearRegression().fit(x,y)\n",
    "\n",
    "# Make predictions over the range -2 to 2\n",
    "newx = np.linspace(-2,2,1001).reshape(-1, 1)\n",
    "y_predicted = olsLinRegFit.predict(newx)\n",
    "\n",
    "# Plot a scatter plot of the data and your model's predictions\n",
    "fig, ax = plt.subplots(dpi = 120)\n",
    "plt.xlabel('x')\n",
    "plt.ylabel('y')\n",
    "plt.scatter(x,y)\n",
    "plt.plot(newx, y_predicted, c='g')\n",
    "plt.show()\n"
   ]
  },
  {
   "cell_type": "markdown",
   "metadata": {},
   "source": [
    "### Question 8: /5 Mark(s)\n",
    "\n",
    "Do you see any major problems with the predictions from linear regression? Keep in mind that this model is intended to model counts of things.  Provide your answer below in markdown in fewer than 5 sentences. "
   ]
  },
  {
   "cell_type": "markdown",
   "metadata": {},
   "source": [
    "#### Answer\n",
    "\n",
    "Knowing that this data, especially the y value keeps track of the \"count of things\", we can see that the Linear regression model predicts negative values for parameters around x < -1.0. Count of something cannot be a negative number, thus the model actively predicts incorrect value at certaint point. Moreover, with the knowledge of the data being a poisson distribution, we can say that a linear line is somewhat limited in describing and predicting a poisson distribution. For example, y count for values over x>0.5 increases in a non linear pattern, which is not fully modeled by the linear regression method."
   ]
  },
  {
   "cell_type": "markdown",
   "metadata": {},
   "source": [
    "### Follow These Instructions\n",
    "\n",
    "Once you are finished, ensure to complete the following steps.\n",
    "\n",
    "1.  Restart your kernel by clicking 'Kernel' > 'Restart & Run All'.\n",
    "\n",
    "2.  Fix any errors which result from this.\n",
    "\n",
    "3.  Repeat steps 1. and 2. until your notebook runs without errors.\n",
    "\n",
    "4.  Submit your completed notebook to OWL by the deadline."
   ]
  },
  {
   "cell_type": "code",
   "execution_count": null,
   "metadata": {},
   "outputs": [],
   "source": []
  }
 ],
 "metadata": {
  "kernelspec": {
   "display_name": "Python 3",
   "language": "python",
   "name": "python3"
  },
  "language_info": {
   "codemirror_mode": {
    "name": "ipython",
    "version": 3
   },
   "file_extension": ".py",
   "mimetype": "text/x-python",
   "name": "python",
   "nbconvert_exporter": "python",
   "pygments_lexer": "ipython3",
   "version": "3.12.6"
  }
 },
 "nbformat": 4,
 "nbformat_minor": 4
}
