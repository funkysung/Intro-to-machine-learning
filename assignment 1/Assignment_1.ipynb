{
 "cells": [
  {
   "cell_type": "markdown",
   "metadata": {},
   "source": [
    "# Grade: /100 points - Sung Hyun, Kim (skim2536)\n",
    "\n",
    "# Assignment 01: Supervised learning, Linear models, and Loss functions\n",
    "\n",
    "In this assignment, you're going to write your own methods to fit a linear model using either an OLS or LAD cost function.  \n",
    "\n",
    "## Data set \n",
    "\n",
    "For this assignment, we will examine some data representing possums in Australia and New Guinea. The data frame contains 46 observations on the following 6 variables:\n",
    "\n",
    "* sex: Sex, either m (male) or f (female).\n",
    "* age: Age in years.\n",
    "* headL: Head length, in mm.\n",
    "* skullW: Skull width, in mm.\n",
    "* totalL: Total length, in cm.\n",
    "* tailL: Tail length, in cm.\n",
    "\n",
    "## Follow These Steps Before Submitting\n",
    "\n",
    "You may need to install packages as follows:\n",
    "\n",
    "`python -m pip install matplotlib numpy scipy pandas scikit-learn`\n",
    "\n",
    "Once you are finished, ensure to complete the following steps.\n",
    "\n",
    "1.  Restart your kernel by clicking 'Kernel' > 'Restart & Run All'.\n",
    "\n",
    "2.  Fix any errors which result from this.\n",
    "\n",
    "3.  Repeat steps 1. and 2. until your notebook runs without errors.\n",
    "\n",
    "4.  Submit your completed notebook to OWL by the deadline.\n",
    "\n",
    "\n",
    "## Preliminaries"
   ]
  },
  {
   "cell_type": "code",
   "execution_count": 2,
   "metadata": {},
   "outputs": [],
   "source": [
    "# Import all the necessary packages: \n",
    "import matplotlib.pyplot as plt \n",
    "import numpy as np\n",
    "import pandas as pd\n",
    "import scipy.stats as ss \n",
    "import scipy.optimize as so\n",
    "from sklearn import linear_model\n",
    "\n",
    "%matplotlib inline"
   ]
  },
  {
   "cell_type": "markdown",
   "metadata": {},
   "source": [
    "\n",
    "## Part 1\n",
    "### Question 1.1:  /10 points\n",
    "\n",
    "\n",
    "Read in the `possum.csv` file as a `pandas.DataFrame`.  Investigate the relationship between the possum's age and its tail length by plotting a scatter plot of the `age` and `tailL` columns. Add an `alpha`(transparency of the plotted dots) in case some data are overlapping. "
   ]
  },
  {
   "cell_type": "code",
   "execution_count": 4,
   "metadata": {},
   "outputs": [
    {
     "data": {
      "image/png": "[encoded data removed]",
      "text/plain": [
       "<Figure size 640x480 with 1 Axes>"
      ]
     },
     "metadata": {},
     "output_type": "display_data"
    }
   ],
   "source": [
    "# Read in the data with pandas\n",
    "possum_data = pd.read_csv('possum.csv')\n",
    "\n",
    "# Make the scatter plot (don't forget the axis labels)\n",
    "\n",
    "age = possum_data['age'].to_numpy()\n",
    "tailL = possum_data['tailL'].to_numpy()\n",
    "\n",
    "plt.scatter(age, tailL, alpha=0.3)\n",
    "plt.title(\"Relationship between possum's age and tail length\")\n",
    "plt.xlabel('age')\n",
    "plt.ylabel('tail length')\n",
    "plt.show()"
   ]
  },
  {
   "cell_type": "markdown",
   "metadata": {},
   "source": [
    "### Question 1.2: /5 point\n",
    "\n",
    "Recall that the linear model, we obtain predictions by computing \n",
    "\n",
    "$$ \\hat{\\mathbf{y}} = \\mathbf{X} \\hat{\\beta} $$\n",
    "\n",
    "Here, $\\mathbf{X}$ is a design matrix which includes a column of ones, $\\hat{\\beta}$ are coefficients, and $\\hat{\\mathbf{y}}$ are outcomes.  Write a function `linearModelPredict` to compute linear model predictions given data and a coefficient vector.  The function should take as it's arguments a 1d-array of coefficients `b` and the design matrix `X` as a 2d-array and return linear model predictions `yp`.\n",
    "\n",
    "Test the function by setting \n",
    "\n",
    "```\n",
    "X = np.array([[1,0],[1,-1],[1,2]])\n",
    "b = np.array([0.1,0.3])\n",
    "```\n",
    "and call your function with these values! \n",
    "\n",
    "Report $\\hat{\\mathbf{y}}$. \n",
    "What is the dimensionality of the numpy-array that you get back? \n",
    "\n",
    "Hint:  Read the documentation for `np.dot` or the `@` operator in `numpy`."
   ]
  },
  {
   "cell_type": "code",
   "execution_count": 7,
   "metadata": {},
   "outputs": [
    {
     "name": "stdout",
     "output_type": "stream",
     "text": [
      "[ 0.1 -0.2  0.7]\n"
     ]
    }
   ],
   "source": [
    "def linearModelPredict(b,X):\n",
    "    yp = np.dot(X,b)\n",
    "    return yp\n",
    "\n",
    "# Always important: Test the new function you have written! \n",
    "X = np.array([[1,0],[1,-1],[1,2]])\n",
    "b = np.array([0.1,0.3])\n",
    "print(linearModelPredict(b,X))\n",
    "# the returned array is 1 dimensional with 3 elements \n",
    "\n",
    "# By the way: What happens when b is a 2d-array? \n",
    "X = np.array([[1,0],[1,-1],[1,2]])\n",
    "b = np.array([[0,0.1],[0.1,0.3]])\n",
    "# print(linearModelPredict(b,X))\n",
    "# the returned array is 2 dimensional\n",
    "\n"
   ]
  },
  {
   "cell_type": "markdown",
   "metadata": {},
   "source": [
    "### Question 1.3: /15 points\n",
    "\n",
    "Write a function `linearModelLossRSS` which computes and returns the loss function for an OLS model parameterized by $\\beta$, as well as the gradient of the loss.  The function should take as its first argument a 1d-array `beta` of coefficients for the linear model, as its second argument the design matrix `X` as a 2d-array, and as its third argument a 1d-array `y` of observed outcomes.\n",
    "\n",
    "Test the function with the values \n",
    "\n",
    "```\n",
    "X = np.array([[1,0],[1,-1],[1,2]])\n",
    "b = np.array([0.1,0.3])\n",
    "y = np.array([0,0.4,2]) \n",
    "```\n",
    "\n",
    "Report the loss and the gradient. \n",
    "\n",
    "**Written answer**: To minimize the cost do you need increase or decrease the value of the parameters? "
   ]
  },
  {
   "cell_type": "code",
   "execution_count": 14,
   "metadata": {},
   "outputs": [
    {
     "name": "stdout",
     "output_type": "stream",
     "text": [
      "loss: 2.06\n",
      "gradient: [-3.6 -4. ]\n"
     ]
    }
   ],
   "source": [
    "def linearModelLossRSS(b,X,y):\n",
    "    residual = y - linearModelPredict(b,X)\n",
    "    residual_sum_of_squares = np.sum(residual ** 2)\n",
    "    gradient = -2 * np.dot(np.transpose(X), residual)\n",
    "    return (residual_sum_of_squares, gradient)\n",
    "\n",
    "#testing linearModelLossRSS\n",
    "X = np.array([[1,0],[1,-1],[1,2]])\n",
    "b = np.array([0.1,0.3])\n",
    "y = np.array([0,0.4,2])\n",
    "\n",
    "loss, gradient = linearModelLossRSS(b,X,y)\n",
    "print('loss: {}'.format(loss))\n",
    "print('gradient: {}'.format(gradient))\n",
    "\n",
    "#WRITTENT ANSWER: To minimize the cost do you need increase or decrease the value of the parameters? \n",
    "#using the test value, both gradients are returned as negative value, thus the parameter should be increased in order to minimize the cost\n",
    "\n"
   ]
  },
  {
   "cell_type": "markdown",
   "metadata": {},
   "source": [
    "WRITTEN ANSWER: To minimize the cost do you need increase or decrease the value of the parameters? \n",
    "\n",
    "Using the test value, both gradients are returned as negative value, thus the parameter should be increased in order to minimize the cost"
   ]
  },
  {
   "cell_type": "markdown",
   "metadata": {},
   "source": [
    "### Question 1.4:  /15 points. \n",
    "\n",
    "Now that you've implemented a loss function in question 1.3, it is now time to minimize it!\n",
    "\n",
    "Write a function `linearModelFit` to fit a linear model.  The function should take as its first argument the design matrix `X` as a 2d-array, as its second argument a 1d-array `y` of outcomes, and as its third argument a function  `lossfcn` which returns as a tuple the value of the loss, as well as the gradient of the loss. As a result, it should return the estimated betas and the R2. \n",
    "\n",
    "Test the function with the values: \n",
    "```\n",
    "X = np.array([[1,0],[1,-1],[1,2]])\n",
    "y = np.array([0,0.4,2]) \n",
    "```\n",
    "\n",
    "Report best parameters and the fitted R2 \n"
   ]
  },
  {
   "cell_type": "code",
   "execution_count": 27,
   "metadata": {},
   "outputs": [
    {
     "name": "stdout",
     "output_type": "stream",
     "text": [
      "  message: Optimization terminated successfully.\n",
      "  success: True\n",
      "   status: 0\n",
      "      fun: 0.56\n",
      "        x: [ 6.000e-01  6.000e-01]\n",
      "      nit: 4\n",
      "      jac: [-4.441e-16 -6.661e-16]\n",
      " hess_inv: [[ 1.786e-01 -3.571e-02]\n",
      "            [-3.571e-02  1.071e-01]]\n",
      "     nfev: 6\n",
      "     njev: 6\n",
      "\n",
      "best parameters: [0.6 0.6]\n",
      "R2: 0.75\n"
     ]
    }
   ],
   "source": [
    "def linearModelFit(X,y,lossfcn = linearModelLossRSS):\n",
    "    #initialise starting values\n",
    "    bstart = [0,0]\n",
    "\n",
    "    #call the optimization function\n",
    "    RESULT = so.minimize(linearModelLossRSS, bstart, args=(X,y), jac=True)\n",
    "    print(RESULT)\n",
    "\n",
    "    #set optimised parameters\n",
    "    estimated_betas = RESULT.x\n",
    "    \n",
    "    #calculating R2\n",
    "    yp = linearModelPredict(b=estimated_betas, X=X)\n",
    "    RSS = np.sum((y - yp)**2) #Residual sum of squares\n",
    "    TSS = np.sum((y - np.mean(y))**2)\n",
    "    R2 = 1 - (RSS/TSS)\n",
    "    \n",
    "    return (estimated_betas,R2)\n",
    "\n",
    "#testing linearModelFit\n",
    "X = np.array([[1,0],[1,-1],[1,2]])\n",
    "y = np.array([0,0.4,2])\n",
    "estimated_betas, R2 = linearModelFit(X,y)\n",
    "print('\\nbest parameters: {}'.format(estimated_betas))\n",
    "print('R2: {}'.format(R2))"
   ]
  },
  {
   "cell_type": "markdown",
   "metadata": {},
   "source": [
    "### Question 1.5: /15 points\n",
    "\n",
    "Use the above functions to fit your model to the possum data. Then use your model and the fitted parameters to make predictions along a grid of equally spaced possum ages.  \n",
    "\n",
    "Plot the data and add a line for the predicted values. You can get these by generating a new X-matrix with equally spaced ages (using for example np.linspace). Also report the R2 value for the fit. You can do this by either printing out the R2 of the fit or putting it on your plot via the `annotate` function in matplotlib.\n"
   ]
  },
  {
   "cell_type": "code",
   "execution_count": 34,
   "metadata": {},
   "outputs": [
    {
     "name": "stdout",
     "output_type": "stream",
     "text": [
      "  message: Optimization terminated successfully.\n",
      "  success: True\n",
      "   status: 0\n",
      "      fun: 388.10162450066565\n",
      "        x: [ 3.335e+01  7.537e-01]\n",
      "      nit: 5\n",
      "      jac: [-3.273e-07 -1.040e-07]\n",
      " hess_inv: [[ 5.083e-02 -1.010e-02]\n",
      "            [-1.010e-02  2.553e-03]]\n",
      "     nfev: 6\n",
      "     njev: 6\n"
     ]
    },
    {
     "data": {
      "image/png": "[encoded data removed]",
      "text/plain": [
       "<Figure size 640x480 with 1 Axes>"
      ]
     },
     "metadata": {},
     "output_type": "display_data"
    },
    {
     "name": "stdout",
     "output_type": "stream",
     "text": [
      "\n",
      "best parameters (OLS model): [0.6 0.6]\n",
      "R2 (OLS model): 0.22286587947604108\n"
     ]
    }
   ],
   "source": [
    "# Make the design matrix using np.c_ \n",
    "y = tailL\n",
    "X =  np.c_[np.ones(len(age)), np.array(age)]\n",
    "#print(X)\n",
    "\n",
    "# Call your fitting function\n",
    "optimised_b, R2 = linearModelFit(X,y)\n",
    "\n",
    "# Create the scatter plot (see question 1.1)\n",
    "plt.scatter(age, tailL, alpha=0.3)\n",
    "plt.title(\"Relationship between possum's age and tail length - OLS modelling\")\n",
    "plt.xlabel('age')\n",
    "plt.ylabel('tail length')\n",
    "\n",
    "\n",
    "# Create a new X matrix with equally space data\n",
    "age_interval = np.linspace(age.min(), age.max(), age.max())\n",
    "new_Xmatrix =  np.c_[np.ones(len(age_interval)), np.array(age_interval)]\n",
    "#print(new_Xmatrix)\n",
    "estimated_tailL_new = np.dot(new_Xmatrix, optimised_b)\n",
    "#print(estimated_tailL_new)\n",
    "\n",
    "# Add the line to the graph \n",
    "plt.plot(age_interval,estimated_tailL_new,'g-')\n",
    "plt.show()\n",
    "\n",
    "# Report R2 \n",
    "print('\\nbest parameters (OLS model): {}'.format(estimated_betas))\n",
    "print('R2 (OLS model): {}'.format(R2))"
   ]
  },
  {
   "cell_type": "markdown",
   "metadata": {},
   "source": [
    "## Part 2: LAD Regression\n",
    "\n",
    "### Question 2.1:  /15 points\n",
    "\n",
    "In the previous section, we worked with the squared loss.  Now, we'll implement a linear model with least absolute deviation loss.\n",
    "\n",
    "Write a function `linearModelLossLAD` which computes the least absolute deviation loss function for a linear model  parameterized by $\\beta$, as well as the gradient of the loss.  The function should take as its first argument a 1d-array `beta` of coefficients for the linear model, as its second argument the design matrix `X` as a 2d-array, and as its third argument a 1d-array `y` of observed outcomes.\n",
    "\n",
    "Test the function with the values \n",
    "\n",
    "```\n",
    "X = np.array([[1,0],[1,-1],[1,2]])\n",
    "b = np.array([0.1,0.3])\n",
    "y = np.array([0,0.4,2]) \n",
    "```\n",
    "\n",
    "Report the loss and the gradient. "
   ]
  },
  {
   "cell_type": "code",
   "execution_count": 19,
   "metadata": {},
   "outputs": [
    {
     "name": "stdout",
     "output_type": "stream",
     "text": [
      "loss: 2.0\n",
      "gradient: [-1. -1.]\n"
     ]
    }
   ],
   "source": [
    "def linearModelLossLAD(b,X,y):\n",
    "    residual = y - linearModelPredict(b,X)\n",
    "    sum_abs_dev = np.sum(np.abs(residual))\n",
    "    grad = -1 * np.dot(np.transpose(X),np.sign(residual))\n",
    "    #grad = -2 * np.dot(np.transpose(X), residual)\n",
    "    return (sum_abs_dev,grad)\n",
    "\n",
    "# testing linearModelLossLAD\n",
    "X = np.array([[1,0],[1,-1],[1,2]])\n",
    "b = np.array([0.1,0.3])\n",
    "y = np.array([0,0.4,2]) \n",
    "\n",
    "loss, gradient = linearModelLossLAD(b,X,y)\n",
    "print('loss: {}'.format(loss))\n",
    "print('gradient: {}'.format(gradient))\n"
   ]
  },
  {
   "cell_type": "markdown",
   "metadata": {},
   "source": [
    "### Question 2.2: /10 points\n",
    "\n",
    "\n",
    "Use the above functions to fit your LAD model. Use your model to make predictions along a grid of equally spaced possum ages.  Once fit, add the fitted line to the scatter plot as in question 1.5.  Also report the R2-value. \n",
    "\n",
    "**Written answer**: What is the difference in the fit obtained with an L1 as compared to the L2 cost function? Which one has a higher R2 value? Why?  \n",
    "\n",
    "Note: If you recieve an error from the optimizer, it may be because the loss function for the LAD model is not differentiable at its minimum.  This will lead to some gradient based optimizers to fail to converge.  If this happens to you then pass `method=\"Powell\"` to `scipy.optimize.minimize`.\n",
    "\n"
   ]
  },
  {
   "cell_type": "code",
   "execution_count": 33,
   "metadata": {},
   "outputs": [
    {
     "name": "stdout",
     "output_type": "stream",
     "text": [
      " message: Optimization terminated successfully.\n",
      " success: True\n",
      "  status: 0\n",
      "     fun: 74.2993299353922\n",
      "       x: [ 3.475e+01  2.502e-01]\n",
      "     nit: 4\n",
      "   direc: [[-2.090e-01  2.312e-02]\n",
      "           [-3.150e-01  6.308e-02]]\n",
      "    nfev: 173\n"
     ]
    },
    {
     "name": "stderr",
     "output_type": "stream",
     "text": [
      "C:\\Users\\Boo\\AppData\\Local\\Temp\\ipykernel_3940\\2856553859.py:6: RuntimeWarning: Method Powell does not use gradient information (jac).\n",
      "  RESULT = so.minimize(linearModelLossLAD, bstart, args=(X,y), method='Powell', jac=True) #Powell method is used to compensate for absolute value usage\n"
     ]
    },
    {
     "data": {
      "image/png": "[encoded data removed]",
      "text/plain": [
       "<Figure size 640x480 with 1 Axes>"
      ]
     },
     "metadata": {},
     "output_type": "display_data"
    },
    {
     "name": "stdout",
     "output_type": "stream",
     "text": [
      "\n",
      "best parameters (LAD model): [34.74949745  0.25016752]\n",
      "R2 (LAD model): 0.09096474493161588\n"
     ]
    }
   ],
   "source": [
    "def linearModelFitLAD(X,y,lossfcn = linearModelLossLAD):\n",
    "    #initialise starting values\n",
    "    bstart = [0,0]\n",
    "\n",
    "    #call the optimization function\n",
    "    RESULT = so.minimize(linearModelLossLAD, bstart, args=(X,y), method='Powell', jac=True) #Powell method is used to compensate for absolute value usage\n",
    "    print(RESULT)\n",
    "\n",
    "    #set optimised parameters\n",
    "    estimated_betas = RESULT.x\n",
    "    \n",
    "    #calculating R2\n",
    "    yp = linearModelPredict(b=estimated_betas, X=X)\n",
    "    RSS = np.sum((y - yp)**2) #Residual sum of squares\n",
    "    TSS = np.sum((y - np.mean(y))**2)\n",
    "    R2 = 1 - (RSS/TSS)\n",
    "    \n",
    "    return (estimated_betas,R2)\n",
    "\n",
    "\n",
    "# Make the design matrix using np.c_ \n",
    "y = tailL\n",
    "X =  np.c_[np.ones(len(age)), np.array(age)]\n",
    "#print(X)\n",
    "\n",
    "# Call your fitting function\n",
    "optimised_b, R2 = linearModelFitLAD(X,y)\n",
    "\n",
    "# Create the scatter plot (see question 1.1)\n",
    "plt.scatter(age, tailL, alpha=0.3)\n",
    "plt.title(\"Relationship between possum's age and tail length - LAD modelling\")\n",
    "plt.xlabel('age')\n",
    "plt.ylabel('tail length')\n",
    "\n",
    "# Create a new X matrix with equally space data\n",
    "age_interval = np.linspace(age.min(), age.max(), age.max())\n",
    "new_Xmatrix =  np.c_[np.ones(len(age_interval)), np.array(age_interval)]\n",
    "#print(new_Xmatrix)\n",
    "estimated_tailL_new = np.dot(new_Xmatrix, optimised_b)\n",
    "#print(estimated_tailL_new)\n",
    "\n",
    "# Add the line to the graph \n",
    "plt.plot(age_interval,estimated_tailL_new, 'r-')\n",
    "plt.show()\n",
    "\n",
    "# Reporting the values\n",
    "print('\\nbest parameters (LAD model): {}'.format(optimised_b))\n",
    "print('R2 (LAD model): {}'.format(R2))"
   ]
  },
  {
   "cell_type": "markdown",
   "metadata": {},
   "source": [
    "Written answer:\n",
    "\n",
    "R2 value for the OLS model was returned as 0.22286587947604108\n",
    "\n",
    "R2 value for the LAD model was returned as 0.09096474493161588\n",
    "\n",
    "R2 value from the OLS model is higher then that of the LAD value. From the range of 0 ~ 1, values closer to 1 shows the better fit towards explaing all the present variables in the model. Thus, from the values returned, we can say that the OLS model showed better fit.\n",
    "\n",
    "OLS model having higher R2 values compared to LAD model could be due to the fact that OLS model is more sensitve towards bigger outlier. In the graph, we can see there is a visible outlier for one of the possum aged 9. OLS model will try to accomodate these outliers, leading to overall higher R2 value compared to LAD which will often be less impacted by these significant outliers.\n"
   ]
  },
  {
   "cell_type": "markdown",
   "metadata": {},
   "source": [
    "### Question 2.3: /15 points\n",
    "\n",
    "Fit an OLS model to the possum data with the `linear_model` module from the `sklearn` package by using the `LinearRegression` class.  In no more than two sentences, comment on the rsquared values from `sklearn` and the rsquared values from your models. Are they similar?"
   ]
  },
  {
   "cell_type": "code",
   "execution_count": 30,
   "metadata": {},
   "outputs": [
    {
     "name": "stdout",
     "output_type": "stream",
     "text": [
      "\n",
      " R2 (OLS model using sklearn package): 0.22286587947604108\n"
     ]
    }
   ],
   "source": [
    "# Make the design matrix using np.c_ \n",
    "y = tailL\n",
    "X =  np.c_[np.ones(len(age)), np.array(age)]\n",
    "\n",
    "new_Fit = linear_model.LinearRegression().fit(X,y)\n",
    "R2 = new_Fit.score(X,y)\n",
    "print('\\n R2 (OLS model using sklearn package): {}'.format(R2))"
   ]
  },
  {
   "cell_type": "markdown",
   "metadata": {},
   "source": [
    "Written answer: \n",
    "\n",
    "Both R2 values from my model and model using sklearn package are the same, 0.22286587947604108"
   ]
  }
 ],
 "metadata": {
  "kernelspec": {
   "display_name": "Python 3",
   "language": "python",
   "name": "python3"
  },
  "language_info": {
   "codemirror_mode": {
    "name": "ipython",
    "version": 3
   },
   "file_extension": ".py",
   "mimetype": "text/x-python",
   "name": "python",
   "nbconvert_exporter": "python",
   "pygments_lexer": "ipython3",
   "version": "3.12.6"
  }
 },
 "nbformat": 4,
 "nbformat_minor": 4
}
